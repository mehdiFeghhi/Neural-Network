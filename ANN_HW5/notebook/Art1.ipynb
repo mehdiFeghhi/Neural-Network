{
 "cells": [
  {
   "cell_type": "code",
   "execution_count": 4,
   "outputs": [],
   "source": [
    "My_student_number = 401722136"
   ],
   "metadata": {
    "collapsed": false
   }
  },
  {
   "cell_type": "code",
   "execution_count": 193,
   "metadata": {
    "collapsed": true
   },
   "outputs": [],
   "source": [
    "import numpy as np\n",
    "\n"
   ]
  },
  {
   "cell_type": "code",
   "execution_count": 204,
   "outputs": [],
   "source": [
    "# Thanks to https://github.com/rougier/neural-networks/blob/master/art1.py because of good code in this part\n",
    "class ART:\n",
    "\n",
    "    def __init__(self, n, m, rho=.5):\n",
    "        '''\n",
    "        Create network with specified shape\n",
    "        Parameters:\n",
    "        -----------\n",
    "        n : int\n",
    "            Size of input\n",
    "        m : int\n",
    "            Maximum number of internal units\n",
    "        rho : float\n",
    "            Vigilance parameter\n",
    "        '''\n",
    "        # Comparison layer\n",
    "        self.F1 = np.ones(n)\n",
    "        # Recognition layer\n",
    "        self.F2 = np.ones(m)\n",
    "        # Feed-forward weights\n",
    "        self.Wf = np.random.random((m,n))\n",
    "        # Feed-back weights\n",
    "        self.Wb = np.random.random((n,m))\n",
    "        # Vigilance\n",
    "        self.rho = rho\n",
    "        # Number of active units in F2\n",
    "        self.active = 0\n",
    "\n",
    "\n",
    "    def learn(self, X):\n",
    "        ''' Learn X '''\n",
    "\n",
    "        # Compute F2 output and sort them (I)\n",
    "        self.F2[...] = np.dot(self.Wf, X)\n",
    "        I = np.argsort(self.F2[:self.active].ravel())[::-1]\n",
    "        for i in I:\n",
    "            # Check if nearest memory is above the vigilance level\n",
    "            d = (self.Wb[:,i]*X).sum()/X.sum()\n",
    "            if d >= self.rho:\n",
    "                # Learn data\n",
    "                self.Wb[:,i] *= X\n",
    "                self.Wf[i,:] = self.Wb[:,i]/(0.5+self.Wb[:,i].sum())\n",
    "                return self.Wb[:,i], i\n",
    "\n",
    "        # No match found, increase the number of active units\n",
    "        # and make the newly active unit to learn data\n",
    "        if self.active < self.F2.size:\n",
    "            i = self.active\n",
    "            self.Wb[:,i] *= X\n",
    "            self.Wf[i,:] = self.Wb[:,i]/(0.5+self.Wb[:,i].sum())\n",
    "            self.active += 1\n",
    "            return self.Wb[:,i], i\n",
    "\n",
    "        return None,None\n",
    "\n",
    "    def predict(self, X):\n",
    "        ''' Test X '''\n",
    "        # Compute F2 output and sort them (I)\n",
    "        self.F2[...] = np.dot(self.Wf, X)\n",
    "        I = np.argsort(self.F2[:self.active].ravel())[::-1]\n",
    "\n",
    "        bigest = -1\n",
    "        bigest_index = 0\n",
    "        for i in I:\n",
    "            # Check if nearest memory is above the vigilance level\n",
    "            d = (self.Wb[:,i]*X).sum()/X.sum()\n",
    "            if bigest > d :\n",
    "                bigest_index= i\n",
    "                bigest = d\n",
    "\n",
    "\n",
    "        return self.Wb[:,bigest_index], bigest_index\n",
    "\n"
   ],
   "metadata": {
    "collapsed": false
   }
  },
  {
   "cell_type": "code",
   "execution_count": 205,
   "outputs": [],
   "source": [
    "set_one_train = {\"A\" : [[0,1,1,0],\n",
    "                        [1,0,0,1],\n",
    "                        [1,1,1,1],\n",
    "                        [1,0,0,1]],\n",
    "\n",
    "                 \"C\":[[0,1,1,1],\n",
    "                      [1,0,0,0],\n",
    "                      [1,0,0,0],\n",
    "                      [0,1,1,1]],\n",
    "\n",
    "                 \"J\":[[0,1,1,1],\n",
    "                      [0,0,1,0],\n",
    "                      [1,0,1,0],\n",
    "                      [1,1,1,0]],\n",
    "\n",
    "                 \"L\":[[1,0,0,0],\n",
    "                      [1,0,0,0],\n",
    "                      [1,0,0,0],\n",
    "                      [1,1,1,1]]}\n",
    "set_one_test = {\"O\":[[0,1,1,0],\n",
    "                     [1,0,0,1],\n",
    "                     [1,0,0,1],\n",
    "                     [0,1,1,0]]}"
   ],
   "metadata": {
    "collapsed": false
   }
  },
  {
   "cell_type": "code",
   "execution_count": 206,
   "outputs": [
    {
     "name": "stdout",
     "output_type": "stream",
     "text": [
      "A\n",
      "C\n",
      "J\n",
      "L\n"
     ]
    }
   ],
   "source": [
    "for i in set_one_train:\n",
    "    print(i)"
   ],
   "metadata": {
    "collapsed": false
   }
  },
  {
   "cell_type": "code",
   "execution_count": 207,
   "outputs": [
    {
     "name": "stdout",
     "output_type": "stream",
     "text": [
      "A-> class 0\n",
      "[[0.         0.94833274 0.4942051  0.        ]\n",
      " [0.28470968 0.         0.         0.        ]\n",
      " [0.56867322 0.         0.         0.        ]\n",
      " [0.         0.         0.         0.28458536]]\n",
      "C-> class 0\n",
      "[[0.         0.94833274 0.4942051  0.        ]\n",
      " [0.28470968 0.         0.         0.        ]\n",
      " [0.56867322 0.         0.         0.        ]\n",
      " [0.         0.         0.         0.28458536]]\n",
      "J-> class 1\n",
      "[[0.         0.         0.         0.        ]\n",
      " [0.         0.         0.         0.        ]\n",
      " [0.77157846 0.         0.         0.        ]\n",
      " [0.21880439 0.97117124 0.89173377 0.        ]]\n",
      "L-> class 1\n",
      "[[0.         0.         0.         0.        ]\n",
      " [0.         0.         0.         0.        ]\n",
      " [0.77157846 0.         0.         0.        ]\n",
      " [0.21880439 0.97117124 0.89173377 0.        ]]\n"
     ]
    }
   ],
   "source": [
    "network = ART( 4*4, 10, rho=0.25)\n",
    "dic_main = {}\n",
    "# It give to dictionary that value is list and see are they same as each other\n",
    "def two_dic_is_same(dic_main, dic_helper):\n",
    "    list_of_key_main = dic_main.keys()\n",
    "    for item in dic_helper:\n",
    "        if item not in list_of_key_main:\n",
    "            return False\n",
    "        if np.array_equal(dic_main[item],dic_helper[item]):\n",
    "            return False\n",
    "    return True\n",
    "\n",
    "# we use learning until all our weight not change.\n",
    "while True:\n",
    "    dic_helper = {}\n",
    "    for i in set_one_train:\n",
    "            # Z is matrix weight of class k\n",
    "            Z, k = network.learn(np.array(set_one_train[i]).ravel())\n",
    "            dic_helper[k] = Z\n",
    "\n",
    "    if not two_dic_is_same(dic_main,dic_helper):\n",
    "        break\n",
    "    else:\n",
    "        dic_main = dic_helper\n",
    "# see class of each of input item\n",
    "for i in set_one_train:\n",
    "            Z, k = network.learn(np.array(set_one_train[i]).ravel())\n",
    "            print(f\"{i}-> class {k}\")\n",
    "            print(Z.reshape(4,4))\n"
   ],
   "metadata": {
    "collapsed": false
   }
  },
  {
   "cell_type": "code",
   "execution_count": 208,
   "outputs": [
    {
     "name": "stdout",
     "output_type": "stream",
     "text": [
      "O-> class 0\n",
      "[[0.         0.94833274 0.4942051  0.        ]\n",
      " [0.28470968 0.         0.         0.        ]\n",
      " [0.56867322 0.         0.         0.        ]\n",
      " [0.         0.         0.         0.28458536]]\n"
     ]
    }
   ],
   "source": [
    "# see class of input test\n",
    "for i in set_one_test:\n",
    "        Z, k = network.predict(np.array(set_one_test[i]).ravel())\n",
    "        print(f\"{i}-> class {k}\")\n",
    "        print(Z.reshape(4,4))\n"
   ],
   "metadata": {
    "collapsed": false
   }
  },
  {
   "cell_type": "code",
   "execution_count": null,
   "outputs": [],
   "source": [],
   "metadata": {
    "collapsed": false
   }
  }
 ],
 "metadata": {
  "kernelspec": {
   "display_name": "Python 3",
   "language": "python",
   "name": "python3"
  },
  "language_info": {
   "codemirror_mode": {
    "name": "ipython",
    "version": 2
   },
   "file_extension": ".py",
   "mimetype": "text/x-python",
   "name": "python",
   "nbconvert_exporter": "python",
   "pygments_lexer": "ipython2",
   "version": "2.7.6"
  }
 },
 "nbformat": 4,
 "nbformat_minor": 0
}
