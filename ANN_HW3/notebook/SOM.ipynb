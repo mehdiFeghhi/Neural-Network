{
  "cells": [
    {
      "cell_type": "code",
      "execution_count": null,
      "metadata": {
        "id": "D6SZNh-moOIZ"
      },
      "outputs": [],
      "source": [
        "import numpy as np\n",
        "from numpy.ma.core import ceil\n",
        "from scipy.spatial import distance\n",
        "from sklearn.preprocessing import MinMaxScaler\n",
        "from sklearn.model_selection import train_test_split\n",
        "from sklearn.metrics import accuracy_score\n",
        "from sklearn.metrics import confusion_matrix\n",
        "import matplotlib.pyplot as plt\n",
        "from matplotlib import animation, colors"
      ]
    },
    {
      "cell_type": "code",
      "source": [
        "!gdown --id 1tVfud9vonlBoJ4aO7i4BHbkfdqjv1H5m"
      ],
      "metadata": {
        "colab": {
          "base_uri": "https://localhost:8080/"
        },
        "id": "CNi7dnlQoPL3",
        "outputId": "2fa1f886-62f4-4971-c667-a9f845ba3586"
      },
      "execution_count": null,
      "outputs": [
        {
          "output_type": "stream",
          "name": "stdout",
          "text": [
            "/usr/local/lib/python3.7/dist-packages/gdown/cli.py:131: FutureWarning: Option `--id` was deprecated in version 4.3.1 and will be removed in 5.0. You don't need to pass it anymore to use a file ID.\n",
            "  category=FutureWarning,\n",
            "Downloading...\n",
            "From: https://drive.google.com/uc?id=1tVfud9vonlBoJ4aO7i4BHbkfdqjv1H5m\n",
            "To: /content/data_banknote_authentication.txt\n",
            "100% 46.4k/46.4k [00:00<00:00, 32.6MB/s]\n"
          ]
        }
      ]
    },
    {
      "cell_type": "code",
      "execution_count": null,
      "metadata": {
        "id": "Md9BGx6voOId"
      },
      "outputs": [],
      "source": [
        "# banknote authentication Data Set\n",
        "data_file = \"data_banknote_authentication.txt\"\n",
        "data_x = np.loadtxt(data_file, delimiter=\",\", skiprows=0, usecols=range(0,4) ,dtype=np.float64)\n",
        "data_y = np.loadtxt(data_file, delimiter=\",\", skiprows=0, usecols=(4,),dtype=np.int64)"
      ]
    },
    {
      "cell_type": "code",
      "execution_count": null,
      "metadata": {
        "colab": {
          "base_uri": "https://localhost:8080/"
        },
        "id": "yxvT2LYloOId",
        "outputId": "f87cb6af-8fb3-4a53-8ef7-cf21e0e58a73"
      },
      "outputs": [
        {
          "output_type": "stream",
          "name": "stdout",
          "text": [
            "(1097, 4) (1097,) (275, 4) (275,)\n"
          ]
        }
      ],
      "source": [
        "# train and test split\n",
        "train_x, test_x, train_y, test_y = train_test_split(data_x, data_y, test_size=0.2, random_state=42)\n",
        "print(train_x.shape, train_y.shape, test_x.shape, test_y.shape) # check the shapes"
      ]
    },
    {
      "cell_type": "code",
      "execution_count": null,
      "metadata": {
        "id": "Eb3ng84KoOIe"
      },
      "outputs": [],
      "source": [
        "# Helper functions\n",
        "\n",
        "# Data Normalisation\n",
        "def minmax_scaler(data):\n",
        "  scaler = MinMaxScaler()\n",
        "  scaled = scaler.fit_transform(data)\n",
        "  return scaled\n",
        "\n",
        "# Euclidean distance\n",
        "def e_distance(x,y):\n",
        "  return distance.euclidean(x,y)\n",
        "\n",
        "# Manhattan distance\n",
        "def m_distance(x,y):\n",
        "  return distance.cityblock(x,y)\n",
        "\n",
        "# Best Matching Unit search\n",
        "def winning_neuron(data, t, som, num_rows, num_cols):\n",
        "  winner = [0,0]\n",
        "  shortest_distance = np.sqrt(data.shape[1]) # initialise with max distance\n",
        "  input_data = data[t]\n",
        "  for row in range(num_rows):\n",
        "    for col in range(num_cols):\n",
        "      distance = e_distance(som[row][col], data[t])\n",
        "      if distance < shortest_distance: \n",
        "        shortest_distance = distance\n",
        "        winner = [row,col]\n",
        "  return winner\n",
        "\n",
        "# Learning rate and neighbourhood range calculation\n",
        "def decay(step, max_steps,max_learning_rate,max_m_dsitance):\n",
        "  coefficient = 1.0 - (np.float64(step)/max_steps)\n",
        "  learning_rate = coefficient*max_learning_rate\n",
        "  neighbourhood_range = ceil(coefficient * max_m_dsitance)\n",
        "  return learning_rate, neighbourhood_range"
      ]
    },
    {
      "cell_type": "code",
      "execution_count": null,
      "metadata": {
        "id": "WwMOYoo8oOIf"
      },
      "outputs": [],
      "source": [
        "# hyperparameters\n",
        "num_rows = 10\n",
        "num_cols = 10\n",
        "max_m_dsitance = 4\n",
        "max_learning_rate = 0.5\n",
        "max_steps = int(7.5*10e3)"
      ]
    },
    {
      "cell_type": "code",
      "execution_count": null,
      "metadata": {
        "colab": {
          "base_uri": "https://localhost:8080/"
        },
        "id": "fdh0BltEoOIf",
        "outputId": "77450625-697c-45e3-d12d-490452a4eefd"
      },
      "outputs": [
        {
          "output_type": "stream",
          "name": "stdout",
          "text": [
            "Iteration:  1000\n",
            "Iteration:  2000\n",
            "Iteration:  3000\n",
            "Iteration:  4000\n",
            "Iteration:  5000\n",
            "Iteration:  6000\n",
            "Iteration:  7000\n",
            "Iteration:  8000\n",
            "Iteration:  9000\n",
            "Iteration:  10000\n",
            "Iteration:  11000\n",
            "Iteration:  12000\n",
            "Iteration:  13000\n",
            "Iteration:  14000\n",
            "Iteration:  15000\n",
            "Iteration:  16000\n",
            "Iteration:  17000\n",
            "Iteration:  18000\n",
            "Iteration:  19000\n",
            "Iteration:  20000\n",
            "Iteration:  21000\n",
            "Iteration:  22000\n",
            "Iteration:  23000\n",
            "Iteration:  24000\n",
            "Iteration:  25000\n",
            "Iteration:  26000\n",
            "Iteration:  27000\n",
            "Iteration:  28000\n",
            "Iteration:  29000\n",
            "Iteration:  30000\n",
            "Iteration:  31000\n",
            "Iteration:  32000\n",
            "Iteration:  33000\n",
            "Iteration:  34000\n",
            "Iteration:  35000\n",
            "Iteration:  36000\n",
            "Iteration:  37000\n",
            "Iteration:  38000\n",
            "Iteration:  39000\n",
            "Iteration:  40000\n",
            "Iteration:  41000\n",
            "Iteration:  42000\n",
            "Iteration:  43000\n",
            "Iteration:  44000\n",
            "Iteration:  45000\n",
            "Iteration:  46000\n",
            "Iteration:  47000\n",
            "Iteration:  48000\n",
            "Iteration:  49000\n",
            "Iteration:  50000\n",
            "Iteration:  51000\n",
            "Iteration:  52000\n",
            "Iteration:  53000\n",
            "Iteration:  54000\n",
            "Iteration:  55000\n",
            "Iteration:  56000\n",
            "Iteration:  57000\n",
            "Iteration:  58000\n",
            "Iteration:  59000\n",
            "Iteration:  60000\n",
            "Iteration:  61000\n",
            "Iteration:  62000\n",
            "Iteration:  63000\n",
            "Iteration:  64000\n",
            "Iteration:  65000\n",
            "Iteration:  66000\n",
            "Iteration:  67000\n",
            "Iteration:  68000\n",
            "Iteration:  69000\n",
            "Iteration:  70000\n",
            "Iteration:  71000\n",
            "Iteration:  72000\n",
            "Iteration:  73000\n",
            "Iteration:  74000\n",
            "Iteration:  75000\n",
            "SOM training completed\n"
          ]
        }
      ],
      "source": [
        "#mian function\n",
        "\n",
        "train_x_norm = minmax_scaler(train_x) # normalisation\n",
        "\n",
        "# initialising self-organising map\n",
        "num_dims = train_x_norm.shape[1] # numnber of dimensions in the input data\n",
        "np.random.seed(40)\n",
        "som = np.random.random_sample(size=(num_rows, num_cols, num_dims)) # map construction\n",
        "\n",
        "# start training iterations\n",
        "for step in range(max_steps):\n",
        "  if (step+1) % 1000 == 0:\n",
        "    print(\"Iteration: \", step+1) # print out the current iteration for every 1k\n",
        "  learning_rate, neighbourhood_range = decay(step, max_steps,max_learning_rate,max_m_dsitance)\n",
        "\n",
        "  t = np.random.randint(0,high=train_x_norm.shape[0]) # random index of traing data\n",
        "  winner = winning_neuron(train_x_norm, t, som, num_rows, num_cols)\n",
        "  for row in range(num_rows):\n",
        "    for col in range(num_cols):\n",
        "      if m_distance([row,col],winner) <= neighbourhood_range:\n",
        "        som[row][col] += learning_rate*(train_x_norm[t]-som[row][col]) #update neighbour's weight\n",
        "\n",
        "print(\"SOM training completed\")"
      ]
    },
    {
      "cell_type": "code",
      "execution_count": null,
      "metadata": {
        "colab": {
          "base_uri": "https://localhost:8080/"
        },
        "id": "dIpSGA29oOIg",
        "outputId": "94c31a3d-0306-4ee9-e96b-a5a6c01b621d"
      },
      "outputs": [
        {
          "output_type": "stream",
          "name": "stdout",
          "text": [
            "sample data:  1000\n"
          ]
        }
      ],
      "source": [
        "# collecting labels\n",
        "\n",
        "label_data = train_y\n",
        "map = np.empty(shape=(num_rows, num_cols), dtype=object)\n",
        "\n",
        "for row in range(num_rows):\n",
        "  for col in range(num_cols):\n",
        "    map[row][col] = [] # empty list to store the label\n",
        "\n",
        "for t in range(train_x_norm.shape[0]):\n",
        "  if (t+1) % 1000 == 0:\n",
        "    print(\"sample data: \", t+1)\n",
        "  winner = winning_neuron(train_x_norm, t, som, num_rows, num_cols)\n",
        "  map[winner[0]][winner[1]].append(label_data[t]) # label of winning neuron"
      ]
    },
    {
      "cell_type": "code",
      "execution_count": null,
      "metadata": {
        "colab": {
          "base_uri": "https://localhost:8080/",
          "height": 281
        },
        "id": "yMSytqo7oOIg",
        "outputId": "78e94054-346c-41c6-a718-8d7c87a1676d"
      },
      "outputs": [
        {
          "output_type": "display_data",
          "data": {
            "text/plain": [
              "<Figure size 432x288 with 2 Axes>"
            ],
            "image/png": "[encoded data removed]"
          },
          "metadata": {
            "needs_background": "light"
          }
        }
      ],
      "source": [
        "# construct label map\n",
        "label_map = np.zeros(shape=(num_rows, num_cols),dtype=np.int64)\n",
        "for row in range(num_rows):\n",
        "  for col in range(num_cols):\n",
        "    label_list = map[row][col]\n",
        "    if len(label_list)==0:\n",
        "      label = 2\n",
        "    else:\n",
        "      label = max(label_list, key=label_list.count)\n",
        "    label_map[row][col] = label\n",
        "\n",
        "title = ('Iteration ' + str(max_steps))\n",
        "cmap = colors.ListedColormap(['tab:green', 'tab:red', 'tab:orange'])\n",
        "plt.imshow(label_map, cmap=cmap)\n",
        "plt.colorbar()\n",
        "plt.title(title)\n",
        "plt.show()"
      ]
    },
    {
      "cell_type": "code",
      "execution_count": null,
      "metadata": {
        "colab": {
          "base_uri": "https://localhost:8080/"
        },
        "id": "_xx_vN_HoOIh",
        "outputId": "70507a5c-6361-4f61-a51a-087a98e446fe"
      },
      "outputs": [
        {
          "output_type": "stream",
          "name": "stdout",
          "text": [
            "Accuracy:  1.0\n"
          ]
        }
      ],
      "source": [
        "# test data\n",
        "\n",
        "# using the trained som, search the winning node of corresponding to the test data\n",
        "# get the label of the winning node\n",
        "\n",
        "data = minmax_scaler(test_x) # normalisation\n",
        "\n",
        "winner_labels = []\n",
        "\n",
        "for t in range(data.shape[0]):\n",
        " winner = winning_neuron(data, t, som, num_rows, num_cols)\n",
        " row = winner[0]\n",
        " col = winner[1]\n",
        " predicted = label_map[row][col]\n",
        " winner_labels.append(predicted)\n",
        "\n",
        "print(\"Accuracy: \",accuracy_score(test_y, np.array(winner_labels)))"
      ]
    }
  ],
  "metadata": {
    "kernelspec": {
      "display_name": "Python 3",
      "language": "python",
      "name": "python3"
    },
    "language_info": {
      "codemirror_mode": {
        "name": "ipython",
        "version": 3
      },
      "file_extension": ".py",
      "mimetype": "text/x-python",
      "name": "python",
      "nbconvert_exporter": "python",
      "pygments_lexer": "ipython3",
      "version": "3.8.3"
    },
    "colab": {
      "provenance": [],
      "collapsed_sections": []
    }
  },
  "nbformat": 4,
  "nbformat_minor": 0
}